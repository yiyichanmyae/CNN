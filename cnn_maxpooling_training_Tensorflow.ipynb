{
  "nbformat": 4,
  "nbformat_minor": 0,
  "metadata": {
    "colab": {
      "name": "cnn_maxpooling_training.ipynb",
      "provenance": [],
      "toc_visible": true,
      "authorship_tag": "ABX9TyPpkXVBhPNCPp3PDh+PhgHk",
      "include_colab_link": true
    },
    "kernelspec": {
      "name": "python3",
      "display_name": "Python 3"
    },
    "language_info": {
      "name": "python"
    }
  },
  "cells": [
    {
      "cell_type": "markdown",
      "metadata": {
        "id": "view-in-github",
        "colab_type": "text"
      },
      "source": [
        "<a href=\"https://colab.research.google.com/github/yiyichanmyae/CNN/blob/main/cnn_maxpooling_training.ipynb\" target=\"_parent\"><img src=\"https://colab.research.google.com/assets/colab-badge.svg\" alt=\"Open In Colab\"/></a>"
      ]
    },
    {
      "cell_type": "code",
      "execution_count": 1,
      "metadata": {
        "colab": {
          "base_uri": "https://localhost:8080/"
        },
        "id": "TVoXXzZEj_Nb",
        "outputId": "0ba19e9a-e796-498b-8085-7f6ef533b861"
      },
      "outputs": [
        {
          "output_type": "stream",
          "name": "stdout",
          "text": [
            "Downloading data from https://storage.googleapis.com/tensorflow/tf-keras-datasets/train-labels-idx1-ubyte.gz\n",
            "32768/29515 [=================================] - 0s 0us/step\n",
            "40960/29515 [=========================================] - 0s 0us/step\n",
            "Downloading data from https://storage.googleapis.com/tensorflow/tf-keras-datasets/train-images-idx3-ubyte.gz\n",
            "26427392/26421880 [==============================] - 0s 0us/step\n",
            "26435584/26421880 [==============================] - 0s 0us/step\n",
            "Downloading data from https://storage.googleapis.com/tensorflow/tf-keras-datasets/t10k-labels-idx1-ubyte.gz\n",
            "16384/5148 [===============================================================================================] - 0s 0us/step\n",
            "Downloading data from https://storage.googleapis.com/tensorflow/tf-keras-datasets/t10k-images-idx3-ubyte.gz\n",
            "4423680/4422102 [==============================] - 0s 0us/step\n",
            "4431872/4422102 [==============================] - 0s 0us/step\n"
          ]
        }
      ],
      "source": [
        "import tensorflow as tf\n",
        "\n",
        "# Load FashionMNIST dataset\n",
        "fmnist = tf.keras.datasets.fashion_mnist\n",
        "(training_images, training_labels), (test_images, test_labels) = fmnist.load_data()"
      ]
    },
    {
      "cell_type": "code",
      "source": [
        "# Normalize the pixel values\n",
        "training_images = training_images / 255.0\n",
        "test_images = test_images / 255.0"
      ],
      "metadata": {
        "id": "CGA-s6bhmF3g"
      },
      "execution_count": 3,
      "outputs": []
    },
    {
      "cell_type": "code",
      "source": [
        "from tensorflow.python.ops.gen_nn_ops import Conv2D\n",
        "# Define the model\n",
        "\n",
        "model = tf.keras.models.Sequential([\n",
        "    tf.keras.layers.Conv2D(\n",
        "        32, \n",
        "        (2,2), \n",
        "        activation='relu',\n",
        "        input_shape=(28, 28, 1)\n",
        "    ),\n",
        "    tf.keras.layers.MaxPooling2D(2,2),\n",
        "    tf.keras.layers.Conv2D(\n",
        "        64,\n",
        "        (3,3),\n",
        "        activation='relu'\n",
        "    ),\n",
        "    tf.keras.layers.Flatten(),\n",
        "    tf.keras.layers.Dense(128, activation=tf.nn.relu),\n",
        "    tf.keras.layers.Dense(10, activation=tf.nn.softmax)\n",
        "])\n",
        "\n",
        "# Print the model summary\n",
        "model.summary()"
      ],
      "metadata": {
        "colab": {
          "base_uri": "https://localhost:8080/"
        },
        "id": "skOL2LSqmSia",
        "outputId": "6caffad5-c152-435d-8284-32156816bd32"
      },
      "execution_count": 6,
      "outputs": [
        {
          "output_type": "stream",
          "name": "stdout",
          "text": [
            "Model: \"sequential_1\"\n",
            "_________________________________________________________________\n",
            " Layer (type)                Output Shape              Param #   \n",
            "=================================================================\n",
            " conv2d (Conv2D)             (None, 27, 27, 32)        160       \n",
            "                                                                 \n",
            " max_pooling2d (MaxPooling2D  (None, 13, 13, 32)       0         \n",
            " )                                                               \n",
            "                                                                 \n",
            " conv2d_1 (Conv2D)           (None, 11, 11, 64)        18496     \n",
            "                                                                 \n",
            " flatten_1 (Flatten)         (None, 7744)              0         \n",
            "                                                                 \n",
            " dense_2 (Dense)             (None, 128)               991360    \n",
            "                                                                 \n",
            " dense_3 (Dense)             (None, 10)                1290      \n",
            "                                                                 \n",
            "=================================================================\n",
            "Total params: 1,011,306\n",
            "Trainable params: 1,011,306\n",
            "Non-trainable params: 0\n",
            "_________________________________________________________________\n"
          ]
        }
      ]
    },
    {
      "cell_type": "code",
      "source": [
        "# Setup Training Parameters\n",
        "model.compile(\n",
        "    optimizer='adam',\n",
        "    loss='sparse_categorical_crossentropy',\n",
        "    metrics=['accuracy']\n",
        ")\n",
        "\n",
        "# Train the model\n",
        "model.fit(\n",
        "    training_images,\n",
        "    training_labels,\n",
        "    epochs=10\n",
        ")\n",
        "\n",
        "# Evaluate on the test set\n",
        "print('\\nMODEL EVALUTION: ')\n",
        "test_loss = model.evaluate(test_images, test_labels)"
      ],
      "metadata": {
        "colab": {
          "base_uri": "https://localhost:8080/"
        },
        "id": "Nu-AVlxOoFnG",
        "outputId": "edbe3d85-c051-4328-b48c-e09e97130613"
      },
      "execution_count": 7,
      "outputs": [
        {
          "output_type": "stream",
          "name": "stdout",
          "text": [
            "Epoch 1/10\n",
            "1875/1875 [==============================] - 59s 31ms/step - loss: 0.4100 - accuracy: 0.8514\n",
            "Epoch 2/10\n",
            "1875/1875 [==============================] - 59s 31ms/step - loss: 0.2696 - accuracy: 0.9016\n",
            "Epoch 3/10\n",
            "1875/1875 [==============================] - 59s 32ms/step - loss: 0.2197 - accuracy: 0.9182\n",
            "Epoch 4/10\n",
            "1875/1875 [==============================] - 58s 31ms/step - loss: 0.1796 - accuracy: 0.9314\n",
            "Epoch 5/10\n",
            "1875/1875 [==============================] - 60s 32ms/step - loss: 0.1461 - accuracy: 0.9449\n",
            "Epoch 6/10\n",
            "1875/1875 [==============================] - 58s 31ms/step - loss: 0.1150 - accuracy: 0.9574\n",
            "Epoch 7/10\n",
            "1875/1875 [==============================] - 59s 32ms/step - loss: 0.0892 - accuracy: 0.9672\n",
            "Epoch 8/10\n",
            "1875/1875 [==============================] - 59s 32ms/step - loss: 0.0711 - accuracy: 0.9734\n",
            "Epoch 9/10\n",
            "1875/1875 [==============================] - 58s 31ms/step - loss: 0.0558 - accuracy: 0.9795\n",
            "Epoch 10/10\n",
            "1875/1875 [==============================] - 59s 32ms/step - loss: 0.0468 - accuracy: 0.9831\n",
            "\n",
            "MODEL EVALUTION: \n",
            "313/313 [==============================] - 3s 9ms/step - loss: 0.3547 - accuracy: 0.9182\n"
          ]
        }
      ]
    },
    {
      "cell_type": "markdown",
      "source": [
        "# Visualizing the Convolutions and Pooling"
      ],
      "metadata": {
        "id": "G9wDWjiZxpbw"
      }
    },
    {
      "cell_type": "code",
      "source": [
        "print(test_labels[:50])"
      ],
      "metadata": {
        "colab": {
          "base_uri": "https://localhost:8080/"
        },
        "id": "L1-nGEfypGh0",
        "outputId": "9bcf3b39-356e-4c5a-8903-bfefdd5d5a8d"
      },
      "execution_count": 8,
      "outputs": [
        {
          "output_type": "stream",
          "name": "stdout",
          "text": [
            "[9 2 1 1 6 1 4 6 5 7 4 5 7 3 4 1 2 4 8 0 2 5 7 9 1 4 6 0 9 3 8 8 3 3 8 0 7\n",
            " 5 7 9 6 1 3 7 6 7 2 1 2 2]\n"
          ]
        }
      ]
    },
    {
      "cell_type": "code",
      "source": [
        "import matplotlib.pyplot as plt\n",
        "from tensorflow.keras import models\n",
        "\n",
        "f, axarr = plt.subplots(3,3)\n",
        "\n",
        "FIRST_IMG = 0\n",
        "SECOND_IMG = 23\n",
        "THIRD_IMG = 28\n",
        "CONVOLUTION_NUMBER = 1\n",
        "\n",
        "# each output after each layer\n",
        "layers_outputs = [layer.output for layer in model.layers]\n",
        "activation_model = tf.keras.models.Model(\n",
        "    inputs = model.input,\n",
        "    outputs = layers_outputs\n",
        ")\n",
        "\n",
        "for x in range(0,3):\n",
        "  f1 = activation_model.predict(test_images[FIRST_IMG].reshape(1, 28, 28, 1))[x]\n",
        "  axarr[0,x].imshow(f1[0, : , :, CONVOLUTION_NUMBER], cmap='inferno')\n",
        "  axarr[0,x].grid(False)\n",
        "  \n",
        "  f2 = activation_model.predict(test_images[SECOND_IMG].reshape(1, 28, 28, 1))[x]\n",
        "  axarr[1,x].imshow(f2[0, : , :, CONVOLUTION_NUMBER], cmap='inferno')\n",
        "  axarr[1,x].grid(False)\n",
        "  \n",
        "  f3 = activation_model.predict(test_images[THIRD_IMG].reshape(1, 28, 28, 1))[x]\n",
        "  axarr[2,x].imshow(f3[0, : , :, CONVOLUTION_NUMBER], cmap='inferno')\n",
        "  axarr[2,x].grid(False)"
      ],
      "metadata": {
        "colab": {
          "base_uri": "https://localhost:8080/",
          "height": 268
        },
        "id": "G-G7_h_Qx0nX",
        "outputId": "8f995732-50bd-4dae-cef7-d73b9b892423"
      },
      "execution_count": 15,
      "outputs": [
        {
          "output_type": "display_data",
          "data": {
            "text/plain": [
              "<Figure size 432x288 with 9 Axes>"
            ],
            "image/png": "[encoded data removed]"
          },
          "metadata": {
            "needs_background": "light"
          }
        }
      ]
    },
    {
      "cell_type": "code",
      "source": [
        ""
      ],
      "metadata": {
        "colab": {
          "base_uri": "https://localhost:8080/"
        },
        "id": "Bh-eoMLQ0_1j",
        "outputId": "f20dc10a-cf53-4a45-d4c1-63c2ecae476c"
      },
      "execution_count": 11,
      "outputs": [
        {
          "output_type": "execute_result",
          "data": {
            "text/plain": [
              "array([[<matplotlib.axes._subplots.AxesSubplot object at 0x7f06f205e1d0>,\n",
              "        <matplotlib.axes._subplots.AxesSubplot object at 0x7f06f1fb7c10>,\n",
              "        <matplotlib.axes._subplots.AxesSubplot object at 0x7f06f1f0d210>,\n",
              "        <matplotlib.axes._subplots.AxesSubplot object at 0x7f06f1f44610>],\n",
              "       [<matplotlib.axes._subplots.AxesSubplot object at 0x7f06f1ef7ad0>,\n",
              "        <matplotlib.axes._subplots.AxesSubplot object at 0x7f06f1eba050>,\n",
              "        <matplotlib.axes._subplots.AxesSubplot object at 0x7f06f1e71590>,\n",
              "        <matplotlib.axes._subplots.AxesSubplot object at 0x7f06f1e27b50>],\n",
              "       [<matplotlib.axes._subplots.AxesSubplot object at 0x7f06f1ddcfd0>,\n",
              "        <matplotlib.axes._subplots.AxesSubplot object at 0x7f06f213b910>,\n",
              "        <matplotlib.axes._subplots.AxesSubplot object at 0x7f06f64c13d0>,\n",
              "        <matplotlib.axes._subplots.AxesSubplot object at 0x7f06f2117ed0>]],\n",
              "      dtype=object)"
            ]
          },
          "metadata": {},
          "execution_count": 11
        }
      ]
    },
    {
      "cell_type": "code",
      "source": [
        ""
      ],
      "metadata": {
        "id": "3_3fjrOE1A8m"
      },
      "execution_count": null,
      "outputs": []
    }
  ]
}
